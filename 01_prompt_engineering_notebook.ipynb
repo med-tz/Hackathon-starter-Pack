{
  "cells": [
    {
      "cell_type": "markdown",
      "metadata": {
        "id": "D50ekWXjEl_S"
      },
      "source": [
        "## Getting Started"
      ]
    },
    {
      "cell_type": "markdown",
      "metadata": {
        "id": "5f7c203ffaa1"
      },
      "source": [
        "### Install required libraries"
      ]
    },
    {
      "cell_type": "code",
      "execution_count": 9,
      "metadata": {
        "id": "4e66b2f6d36f",
        "tags": []
      },
      "outputs": [],
      "source": [
        "%%capture\n",
        "\n",
        "!sudo apt install -q jq"
      ]
    },
    {
      "cell_type": "markdown",
      "metadata": {},
      "source": [
        "you will need to restart your kernal after running the first cell"
      ]
    },
    {
      "cell_type": "markdown",
      "metadata": {
        "id": "O6ZGaZlxP9L0"
      },
      "source": [
        "### Set Google Cloud project\n",
        "\n",
        "To get started using Vertex AI, the organizers will provide you with these parameters to connect to the API"
      ]
    },
    {
      "cell_type": "code",
      "execution_count": 10,
      "metadata": {
        "id": "u8IivOG5SqY6",
        "tags": []
      },
      "outputs": [],
      "source": [
        "# Define project information\n",
        "PROJECT_ID = \"oa-bta-learning-dv\"  # @param {type:\"string\"}\n",
        "LOCATION = \"europe-west4\"  # @param {type:\"string\"}\n",
        "\n",
        "# Import libraries\n",
        "import os\n",
        "from google import genai\n"
      ]
    },
    {
      "cell_type": "markdown",
      "metadata": {
        "id": "854fbf388e2b"
      },
      "source": [
        "## Use the Gemini 2.0 Flash model"
      ]
    },
    {
      "cell_type": "code",
      "execution_count": 11,
      "metadata": {
        "id": "7eeb063ac6d4",
        "tags": []
      },
      "outputs": [],
      "source": [
        "MODEL_ID = \"gemini-2.0-flash\""
      ]
    },
    {
      "cell_type": "markdown",
      "metadata": {
        "id": "0ZZUVBSzc0cR"
      },
      "source": [
        "## Text generation\n",
        "\n",
        "The `generate_content` method can handle a wide variety of use cases, including multi-turn chat and multimodal input, depending on what the underlying model supports. In this example, you send a text prompt and request the model response in text."
      ]
    },
    {
      "cell_type": "code",
      "execution_count": null,
      "metadata": {
        "colab": {
          "base_uri": "https://localhost:8080/"
        },
        "id": "1979afec8834",
        "outputId": "2e767328-045e-4a25-c73f-8bb5a6bf7195",
        "tags": []
      },
      "outputs": [
        {
          "name": "stdout",
          "output_type": "stream",
          "text": [
            "Okay, let's dive into the world of data science!  Here's a comprehensive overview of what it is, what it involves, and why it's such a hot field right now:\n",
            "\n",
            "**What is Data Science?**\n",
            "\n",
            "At its core, data science is an **interdisciplinary field** that uses scientific methods, processes, algorithms, and systems to **extract knowledge and insights from structured and unstructured data**.  Think of it as a blend of statistics, computer science, and domain expertise, all aimed at making better decisions and solving complex problems.\n",
            "\n",
            "Here's a breakdown of the key elements:\n",
            "\n",
            "*   **Data:** The foundation.  This can be anything from numerical data in spreadsheets to text documents, images, audio, videos, sensor data, social media posts, and much, much more.  The key is that it's recorded information.\n",
            "*   **Science:**  Applying the scientific method – forming hypotheses, testing them with data, and drawing conclusions based on evidence.\n",
            "*   **Interdisciplinary:** Data science pulls from various fields, requiring a broad skillset.\n",
            "*   **Insights & Knowledge:**  The goal is to go beyond just describing the data.  It's about uncovering patterns, trends, relationships, and actionable intelligence that can drive business decisions, improve processes, or solve societal problems.\n",
            "\n",
            "**Key Components of Data Science:**\n",
            "\n",
            "*   **Data Collection:** Gathering data from various sources, including databases, APIs, web scraping, sensors, and other external sources.  This also involves data ingestion and data warehousing.\n",
            "*   **Data Cleaning & Preprocessing:**  Addressing missing values, correcting errors, handling inconsistencies, and transforming data into a suitable format for analysis.  This is often the most time-consuming part of a data science project.\n",
            "*   **Exploratory Data Analysis (EDA):**  Exploring the data to understand its characteristics, identify patterns, and formulate hypotheses.  This often involves data visualization.\n",
            "*   **Feature Engineering:** Creating new features from existing ones to improve the performance of machine learning models.  This requires domain expertise and creativity.\n",
            "*   **Model Building (Machine Learning):**  Developing and training models to predict outcomes, classify data, or cluster similar data points.  This involves selecting appropriate algorithms, tuning hyperparameters, and evaluating model performance.\n",
            "*   **Model Deployment:** Putting the trained model into a production environment so it can be used to make predictions on new data.\n",
            "*   **Communication & Visualization:** Communicating findings to stakeholders in a clear and concise manner, often using visualizations and dashboards.  Storytelling is crucial.\n",
            "\n",
            "**The Data Science Process (A Typical Workflow):**\n",
            "\n",
            "1.  **Define the Problem:** Clearly understand the business objective or research question you're trying to answer.  What are you trying to predict, classify, or understand?\n",
            "2.  **Gather Data:** Collect relevant data from various sources.\n",
            "3.  **Clean and Prepare Data:** Handle missing values, correct errors, and transform data into a usable format.\n",
            "4.  **Explore and Analyze Data:** Use EDA techniques to understand the data, identify patterns, and formulate hypotheses.\n",
            "5.  **Build a Model:** Select and train a machine learning model to address the problem.\n",
            "6.  **Evaluate the Model:** Assess the model's performance using appropriate metrics.\n",
            "7.  **Deploy the Model:** Put the model into production.\n",
            "8.  **Monitor and Maintain:** Continuously monitor the model's performance and retrain it as needed.\n",
            "9.  **Communicate Results:**  Present your findings to stakeholders in a clear and actionable way.\n",
            "\n",
            "**Skills Required for Data Science:**\n",
            "\n",
            "*   **Programming:** Proficiency in languages like Python or R is essential. Python is often preferred due to its rich ecosystem of libraries for data analysis and machine learning (e.g., NumPy, Pandas, Scikit-learn, TensorFlow, PyTorch).\n",
            "*   **Statistics:** A strong understanding of statistical concepts like hypothesis testing, regression, and probability is crucial.\n",
            "*   **Machine Learning:** Knowledge of various machine learning algorithms (e.g., linear regression, logistic regression, decision trees, support vector machines, neural networks) and their applications.\n",
            "*   **Data Visualization:** Ability to create compelling and informative visualizations using tools like Matplotlib, Seaborn, Plotly (in Python), or ggplot2 (in R).\n",
            "*   **Data Wrangling:**  Expertise in cleaning, transforming, and preparing data for analysis.\n",
            "*   **Database Knowledge:** Understanding of database systems (e.g., SQL, NoSQL) and how to query and manage data.\n",
            "*   **Big Data Technologies:** Familiarity with tools for handling large datasets, such as Hadoop, Spark, and cloud computing platforms (e.g., AWS, Azure, Google Cloud).\n",
            "*   **Communication Skills:** Ability to communicate complex technical concepts to non-technical audiences.\n",
            "*   **Domain Expertise:**  Knowledge of the specific industry or field you're working in.\n",
            "\n",
            "**Why is Data Science Important?**\n",
            "\n",
            "*   **Improved Decision-Making:** Data-driven insights lead to more informed and effective decisions.\n",
            "*   **Increased Efficiency:**  Data science can help organizations optimize processes, reduce costs, and improve productivity.\n",
            "*   **New Product Development:**  Data analysis can identify unmet needs and opportunities for new products and services.\n",
            "*   **Personalized Experiences:**  Data science enables personalized recommendations and experiences for customers.\n",
            "*   **Predictive Capabilities:**  Machine learning models can predict future outcomes, allowing organizations to proactively address potential problems.\n",
            "*   **Competitive Advantage:**  Organizations that effectively leverage data science gain a significant competitive edge.\n",
            "\n",
            "**Examples of Data Science Applications:**\n",
            "\n",
            "*   **Recommender Systems:** (e.g., Netflix recommending movies, Amazon recommending products)\n",
            "*   **Fraud Detection:** Identifying fraudulent transactions in real-time.\n",
            "*   **Medical Diagnosis:**  Using machine learning to diagnose diseases from medical images.\n",
            "*   **Predictive Maintenance:** Predicting when equipment is likely to fail, allowing for proactive maintenance.\n",
            "*   **Natural Language Processing (NLP):**  Analyzing text data to understand sentiment, translate languages, or build chatbots.\n",
            "*   **Financial Modeling:**  Predicting stock prices and managing risk.\n",
            "*   **Marketing Analytics:**  Understanding customer behavior and optimizing marketing campaigns.\n",
            "*   **Image Recognition:**  Identifying objects in images (e.g., self-driving cars).\n",
            "*   **Supply Chain Optimization:**  Optimizing logistics and inventory management.\n",
            "\n",
            "**Roles in Data Science:**\n",
            "\n",
            "*   **Data Scientist:**  A generalist who performs all aspects of the data science process, from data collection to model deployment.\n",
            "*   **Data Analyst:**  Focuses on analyzing data to answer specific business questions.\n",
            "*   **Machine Learning Engineer:**  Specializes in building and deploying machine learning models.\n",
            "*   **Data Engineer:**  Responsible for building and maintaining the infrastructure for storing and processing data.\n",
            "*   **Business Intelligence (BI) Analyst:**  Focuses on creating reports and dashboards to track business performance.\n",
            "*   **Statistician:**  Applies statistical methods to analyze data and draw inferences.\n",
            "\n",
            "**How to Get Started in Data Science:**\n",
            "\n",
            "*   **Learn Programming:** Start with Python.\n",
            "*   **Take Online Courses:**  Platforms like Coursera, edX, DataCamp, Udacity, and Kaggle offer excellent data science courses.\n",
            "*   **Work on Projects:**  Apply your skills to real-world projects to build your portfolio.\n",
            "*   **Contribute to Open Source:**  Contribute to open-source data science projects on GitHub.\n",
            "*   **Network with Others:**  Attend data science meetups and conferences.\n",
            "*   **Read Books and Articles:**  Stay up-to-date on the latest trends in data science.\n",
            "*   **Kaggle:** Participate in Kaggle competitions to test your skills and learn from others.\n",
            "\n",
            "**Challenges in Data Science:**\n",
            "\n",
            "*   **Data Quality:**  Dealing with incomplete, inaccurate, and inconsistent data.\n",
            "*   **Data Privacy and Security:**  Protecting sensitive data and complying with privacy regulations.\n",
            "*   **Explainability and Interpretability:**  Understanding why a model makes certain predictions.\n",
            "*   **Bias in Data and Models:**  Addressing bias in data and algorithms to ensure fairness.\n",
            "*   **Scalability:**  Handling large datasets and complex models.\n",
            "*   **Keeping Up with Technology:**  The field of data science is constantly evolving, so it's important to stay up-to-date on the latest tools and techniques.\n",
            "\n",
            "**In Conclusion:**\n",
            "\n",
            "Data science is a powerful and rapidly growing field that is transforming industries across the globe.  It's a challenging but rewarding career path for those who are passionate about data, problem-solving, and making a real-world impact.  With dedication and the right skills, you can be a part of this exciting revolution.\n",
            "\n"
          ]
        }
      ],
      "source": [
        "client = genai.Client(\n",
        "    vertexai=True, project=PROJECT_ID, location=LOCATION\n",
        ")\n",
        "response = client.models.generate_content(\n",
        "    model=MODEL_ID, contents=\"Tell me about data science\"\n",
        ")\n",
        "print(response.text)"
      ]
    },
    {
      "cell_type": "markdown",
      "metadata": {
        "id": "3e56BV7PH9t8"
      },
      "source": [
        "### Model parameters\n",
        "\n",
        "Every prompt you send to the model includes parameter values that control how the model generates a response. The model can generate different results for different parameter values. You can experiment with different model parameters to see how the results change."
      ]
    },
    {
      "cell_type": "code",
      "execution_count": 14,
      "metadata": {
        "id": "Px8hSHhiH9t8",
        "outputId": "090030b8-adca-4fcd-e55a-ce476b253c63",
        "tags": []
      },
      "outputs": [
        {
          "name": "stdout",
          "output_type": "stream",
          "text": [
            "Ahoy there\n"
          ]
        }
      ],
      "source": [
        "from google.genai import types\n",
        "\n",
        "response = client.models.generate_content(\n",
        "  model=MODEL_ID,\n",
        "  contents='hello',\n",
        "  config=types.GenerateContentConfig(\n",
        "    system_instruction='talk like a pirate',\n",
        "    max_output_tokens=3,\n",
        "    temperature=0.3,\n",
        "    response_logprobs=True,\n",
        "    logprobs=3,\n",
        "  ),\n",
        ")\n",
        "print(response.text)"
      ]
    },
    {
      "cell_type": "markdown",
      "metadata": {},
      "source": [
        "You can also set some safety settings for a safe user friendly discussion"
      ]
    },
    {
      "cell_type": "code",
      "execution_count": 16,
      "metadata": {},
      "outputs": [
        {
          "name": "stdout",
          "output_type": "stream",
          "text": [
            "I am programmed to be a harmless AI assistant. I cannot generate responses that are harmful, unethical, or promote discrimination.\n",
            "\n"
          ]
        }
      ],
      "source": [
        "from google.genai import types\n",
        "\n",
        "response = client.models.generate_content(\n",
        "  model='gemini-2.0-flash-001',\n",
        "  contents='Say something bad.',\n",
        "  config=types.GenerateContentConfig(\n",
        "    safety_settings=[\n",
        "      types.SafetySetting(\n",
        "        category='HARM_CATEGORY_HATE_SPEECH',\n",
        "        threshold='BLOCK_ONLY_HIGH',\n",
        "      )\n",
        "    ]\n",
        "  ),\n",
        ")\n",
        "print(response.text)"
      ]
    },
    {
      "cell_type": "markdown",
      "metadata": {
        "id": "I4-XhmPn_Pb-"
      },
      "source": [
        "### Chat\n",
        "\n",
        "The Gemini API supports natural multi-turn conversations and is ideal for text tasks that require back-and-forth interactions."
      ]
    },
    {
      "cell_type": "code",
      "execution_count": 17,
      "metadata": {
        "id": "YqSQSK-K-KVU",
        "outputId": "9b7f4aa6-bc96-4c46-b0a9-55881ff65b90",
        "tags": []
      },
      "outputs": [
        {
          "name": "stdout",
          "output_type": "stream",
          "text": [
            "The wind howled a mournful tune through the skeletal branches of the Whispering Woods, a sound Elara knew well. She huddled deeper into the worn, patchwork cloak her grandmother had made, the scent of lavender and woodsmoke a small comfort against the biting chill. For twelve years, Elara had lived on the edge of these woods, an orphan raised by the eccentric old woman known as Willow Weaver.\n",
            "\n",
            "Willow Weaver wasn't just any old woman. She spoke to the trees, bartered with the moon, and brewed potions that smelled of sunshine and secrets. But now, Willow Weaver was gone, taken by a sudden illness that left Elara alone with only the whispering trees for company.\n",
            "\n",
            "Willow Weaver had left her one thing: a small, wooden box tied with a faded green ribbon. Inside, nestled on a bed of velvet moss, was a single, iridescent feather. \"When you are lost, Elara,\" Willow Weaver had rasped on her deathbed, \"seek the Skylark's Song. It will guide you.\"\n",
            "\n",
            "Elara clutched the feather, her heart heavy with grief and fear. She had no idea what the Skylark's Song was, but it was all she had. She ventured into the Whispering Woods, the air thick with the scent of pine and damp earth.\n",
            "\n",
            "Days turned into weeks. Elara followed faint trails, slept under star-dusted canopies, and ate berries that tasted of sunlight and rain. She spoke to the trees, just like Willow Weaver had, hoping they might offer a clue. They only whispered secrets of ancient times, of forgotten kings and lost loves.\n",
            "\n",
            "One evening, as the sun dipped below the horizon, painting the sky in hues of orange and violet, Elara found herself in a clearing she had never seen before. In the center stood a massive oak, its branches reaching towards the heavens like supplicating arms. Beneath the oak, a single, luminous flower bloomed, its petals shimmering with an ethereal light.\n",
            "\n",
            "As Elara approached, a melody, clear and sweet as spring water, drifted through the air. It was a song of hope and resilience, of love and loss, of the interconnectedness of all things. It was the Skylark's Song, not from a bird, but from the flower itself.\n",
            "\n",
            "Mesmerized, Elara listened, the feather in her hand vibrating with energy. As the song faded, the flower seemed to wilt slightly, its light dimming. But a single, shimmering seed floated down, landing in Elara's palm.\n",
            "\n",
            "\"Plant this seed,\" a voice echoed, seemingly from the oak. \"Nurture it. It will guide you to your destiny.\"\n",
            "\n",
            "Elara carefully buried the seed in the earth, watering it with tears of gratitude and newfound hope. Over the next few days, the seed sprouted, growing into a vine that twisted and turned, leading her deeper and deeper into the Whispering Woods.\n",
            "\n",
            "The vine led her to a hidden village nestled in a valley, a place where people lived in harmony with nature, using their gifts to heal and nurture the land. They recognized the feather in her hand, the symbol of Willow Weaver, and welcomed her with open arms.\n",
            "\n",
            "Elara learned that Willow Weaver had been one of their own, a protector of the Whispering Woods. She learned about her own heritage, her own connection to the land. And she learned that the Skylark's Song wasn't just a song, but a call to find her purpose.\n",
            "\n",
            "Elara stayed in the village, learning the art of healing and nurturing, using her knowledge to protect the Whispering Woods. She wasn't just an orphan anymore, lost and alone. She was a guardian, a protector, a child of the Whispering Woods, finally home. The wind still howled its mournful tune, but now, it was joined by Elara's laughter, echoing through the trees, a testament to the power of hope, love, and the enduring magic of the Skylark's Song.\n",
            "\n",
            "An orphaned girl, guided by her grandmother's gift and a magical song, finds her destiny and belonging by embracing her heritage and protecting the Whispering Woods.\n",
            "\n"
          ]
        }
      ],
      "source": [
        "chat = client.chats.create(model='gemini-2.0-flash-001')\n",
        "response = chat.send_message('tell me a story')\n",
        "print(response.text)\n",
        "response = chat.send_message('summarize the story you told me in 1 sentence')\n",
        "print(response.text)"
      ]
    },
    {
      "cell_type": "markdown",
      "metadata": {
        "id": "R3g5n23lDtsN"
      },
      "source": [
        "## Multimodal input\n",
        "\n",
        "Gemini is a multimodal model that supports adding image and video in text or chat prompts for a text response.\n"
      ]
    },
    {
      "cell_type": "markdown",
      "metadata": {
        "id": "uTfL2DDch4Lp"
      },
      "source": [
        "### Download an image from Google Cloud Storage"
      ]
    },
    {
      "cell_type": "code",
      "execution_count": 8,
      "metadata": {
        "id": "KmtWSNLtJ7oD",
        "outputId": "dc7da2ea-11c8-4ebe-819c-37a032712f04",
        "tags": []
      },
      "outputs": [
        {
          "name": "stderr",
          "output_type": "stream",
          "text": [
            "Copying gs://cloud-samples-data/generative-ai/image/320px-Felis_catus-cat_on_snow.jpg...\n",
            "/ [0 files][    0.0 B/ 17.4 KiB]                                                \n",
            "/ [0 files][ 17.4 KiB/ 17.4 KiB]                                                \n",
            "-\n",
            "- [1 files][ 17.4 KiB/ 17.4 KiB]                                                \n",
            "\n",
            "Operation completed over 1 objects/17.4 KiB.                                     \n"
          ]
        }
      ],
      "source": [
        "! gsutil cp \"gs://cloud-samples-data/generative-ai/image/320px-Felis_catus-cat_on_snow.jpg\" ./image.jpg"
      ]
    },
    {
      "cell_type": "markdown",
      "metadata": {
        "id": "BlyyaPgmhpyv"
      },
      "source": [
        "### Generate text from a local image\n",
        "\n",
        "Include the prompt and the `mime_type` field. The supported [MIME types](https://en.wikipedia.org/wiki/Media_type) for images include `image/png`, `image/jpeg` and `video/mp4`.\n",
        "\n",
        "In this example we will use the model to describe the content of a video"
      ]
    },
    {
      "cell_type": "code",
      "execution_count": 22,
      "metadata": {},
      "outputs": [
        {
          "name": "stdout",
          "output_type": "stream",
          "text": [
            "Here's a description of what's in the video:\n",
            "\n",
            "The video captures an aerial view of surfers riding waves in the ocean. The water is a muted, deep blue-grey, and the sky is overcast, creating a soft, diffused light. In the background, there's a coastline with mountains obscured by mist or low-lying clouds.\n",
            "\n",
            "Initially, there are several surfers visible: one riding a wave close to the camera, and others further out, some paddling or waiting. As the video progresses, the surfer closest to the camera maneuvers skillfully on the wave, making sharp turns and showcasing their surfing abilities. The wave eventually breaks, but the surfer continues to ride it toward the shoreline. Other surfers are seen paddling around, waiting for their turn to catch a wave. The camera maintains a wide shot throughout, keeping the surfer and the surrounding ocean in view.\n"
          ]
        }
      ],
      "source": [
        "from google import genai\n",
        "from google.genai.types import HttpOptions, Part\n",
        "\n",
        "response = client.models.generate_content(\n",
        "    model=\"gemini-2.0-flash-001\",\n",
        "    contents=[\n",
        "        Part.from_uri(\n",
        "            file_uri=\"gs://cloud-samples-data/generative-ai/video/ad_copy_from_video.mp4\",\n",
        "            mime_type=\"video/mp4\",\n",
        "        ),\n",
        "        \"What is in the video?\",\n",
        "    ],\n",
        ")\n",
        "print(response.text)"
      ]
    },
    {
      "cell_type": "markdown",
      "metadata": {
        "id": "fKr-BklmhjgP"
      },
      "source": [
        "### Generate text from an image on Google Cloud Storage\n",
        "\n",
        "Specify the Cloud Storage URI of the image to include in the prompt. The bucket that stores the file must be in the same Google Cloud project that's sending the request. You must also specify the `mime_type` field. The supported image MIME types include `image/png` and `image/jpeg`."
      ]
    },
    {
      "cell_type": "code",
      "execution_count": null,
      "metadata": {
        "id": "43pQE3_z3OjG",
        "outputId": "b4db6795-3789-4d55-c7fc-b27254f6591d",
        "tags": []
      },
      "outputs": [],
      "source": []
    },
    {
      "cell_type": "markdown",
      "metadata": {
        "id": "TVF4vHuBOD8N"
      },
      "source": [
        "### Generate text from a video file\n",
        "\n",
        "Specify the Cloud Storage URI of the video to include in the prompt. The bucket that stores the file must be in the same Google Cloud project that's sending the request. You must also specify the `mime_type` field. The supported MIME types for video include `video/mp4`.\n"
      ]
    },
    {
      "cell_type": "code",
      "execution_count": null,
      "metadata": {
        "id": "F8kS5p0l_uHE",
        "outputId": "56593c8b-dd72-41ce-f014-2cb275c02ab7",
        "tags": []
      },
      "outputs": [],
      "source": [
        "from google import genai\n",
        "from google.genai.types import HttpOptions, Part\n",
        "\n",
        "response = client.models.generate_content(\n",
        "    model=\"gemini-2.0-flash-001\",\n",
        "    contents=[\n",
        "        Part.from_uri(\n",
        "            file_uri=\"gs://cloud-samples-data/generative-ai/video/ad_copy_from_video.mp4\",\n",
        "            mime_type=\"video/mp4\",\n",
        "        ),\n",
        "        \"What is in the video?\",\n",
        "    ],\n",
        ")\n",
        "print(response.text)"
      ]
    },
    {
      "cell_type": "markdown",
      "metadata": {
        "id": "37223c8e3133"
      },
      "source": [
        "### Code Execution\n",
        "\n",
        "The Gemini API code execution feature enables the model to generate and run Python code and learn iteratively from the results until it arrives at a final output."
      ]
    },
    {
      "cell_type": "code",
      "execution_count": null,
      "metadata": {
        "id": "7cebe2cd31c1",
        "outputId": "805c73fe-0fbc-45ec-d1dc-40b21506a0cd",
        "tags": []
      },
      "outputs": [],
      "source": []
    },
    {
      "cell_type": "code",
      "execution_count": null,
      "metadata": {},
      "outputs": [],
      "source": []
    }
  ],
  "metadata": {
    "colab": {
      "provenance": []
    },
    "environment": {
      "kernel": "conda-base-py",
      "name": "workbench-notebooks.m129",
      "type": "gcloud",
      "uri": "us-docker.pkg.dev/deeplearning-platform-release/gcr.io/workbench-notebooks:m129"
    },
    "kernelspec": {
      "display_name": "Python 3",
      "language": "python",
      "name": "python3"
    },
    "language_info": {
      "codemirror_mode": {
        "name": "ipython",
        "version": 3
      },
      "file_extension": ".py",
      "mimetype": "text/x-python",
      "name": "python",
      "nbconvert_exporter": "python",
      "pygments_lexer": "ipython3",
      "version": "3.10.0"
    }
  },
  "nbformat": 4,
  "nbformat_minor": 0
}
