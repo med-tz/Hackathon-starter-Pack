{
  "cells": [
    {
      "cell_type": "markdown",
      "metadata": {
        "id": "tvgnzT1CKxrO"
      },
      "source": [
        "## Overview\n",
        "\n",
        "Retrieval Augmented Generation (RAG) improves Large Language Models (LLMs) by allowing them to access and process external information sources during generation. This ensures the model's responses are grounded in factual data and avoids hallucinations.\n",
        "\n",
        "A common problem with LLMs is that they don't understand private knowledge, that\n",
        "is, your organization's data. With RAG Engine, you can enrich the\n",
        "LLM context with additional private information, because the model can reduce\n",
        "hallucinations and answer questions more accurately.\n",
        "\n",
        "By combining additional knowledge sources with the existing knowledge that LLMs\n",
        "have, a better context is provided. The improved context along with the query\n",
        "enhances the quality of the LLM's response.\n",
        "\n",
        "The following concepts are key to understanding Vertex AI RAG Engine. These concepts are listed in the order of the\n",
        "retrieval-augmented generation (RAG) process.\n",
        "\n",
        "1. **Data ingestion**: Intake data from different data sources. For example,\n",
        "  local files, Google Cloud Storage, and Google Drive.\n",
        "\n",
        "1. **Data transformation**: Conversion of the data in preparation for indexing. For example, data is split into chunks.\n",
        "\n",
        "1. **Embedding**: Numerical representations of words or pieces of text. These numbers capture the\n",
        "   semantic meaning and context of the text. Similar or related words or text\n",
        "   tend to have similar embeddings, which means they are closer together in the\n",
        "   high-dimensional vector space.\n",
        "\n",
        "1. **Data indexing**: RAG Engine creates an index called a corpus.\n",
        "   The index structures the knowledge base so it's optimized for searching. For\n",
        "   example, the index is like a detailed table of contents for a massive\n",
        "   reference book.\n",
        "\n",
        "1. **Retrieval**: When a user asks a question or provides a prompt, the retrieval\n",
        "  component in RAG Engine searches through its knowledge\n",
        "  base to find information that is relevant to the query.\n",
        "\n",
        "1. **Generation**: The retrieved information becomes the context added to the\n",
        "  original user query as a guide for the generative AI model to generate\n",
        "  factually grounded and relevant responses.\n",
        "\n",
        "For more information, refer to the public documentation for [Vertex AI RAG Engine](https://cloud.google.com/vertex-ai/generative-ai/docs/rag-overview)."
      ]
    },
    {
      "cell_type": "markdown",
      "metadata": {
        "id": "61RBz8LLbxCR"
      },
      "source": [
        "## Get started"
      ]
    },
    {
      "cell_type": "markdown",
      "metadata": {
        "id": "No17Cw5hgx12"
      },
      "source": [
        "### Install Vertex AI SDK and Google Gen AI SDK\n"
      ]
    },
    {
      "cell_type": "code",
      "execution_count": 1,
      "metadata": {
        "id": "tFy3H3aPgx12"
      },
      "outputs": [
        {
          "name": "stdout",
          "output_type": "stream",
          "text": [
            "Note: you may need to restart the kernel to use updated packages.\n"
          ]
        },
        {
          "name": "stderr",
          "output_type": "stream",
          "text": [
            "WARNING: You are using pip version 21.2.3; however, version 25.1.1 is available.\n",
            "You should consider upgrading via the 'c:\\Users\\moham\\AppData\\Local\\Programs\\Python\\Python310\\python.exe -m pip install --upgrade pip' command.\n"
          ]
        }
      ],
      "source": [
        "%pip install --upgrade --quiet google-cloud-aiplatform google-genai"
      ]
    },
    {
      "cell_type": "markdown",
      "metadata": {
        "id": "R5Xep4W9lq-Z"
      },
      "source": [
        "### Restart runtime\n",
        "\n",
        "To use the newly installed packages in this Jupyter runtime, you must restart the runtime. You can do this by running the cell below, which restarts the current kernel.\n",
        "\n",
        "The restart might take a minute or longer. After it's restarted, continue to the next step."
      ]
    },
    {
      "cell_type": "code",
      "execution_count": null,
      "metadata": {
        "id": "XRvKdaPDTznN"
      },
      "outputs": [],
      "source": [
        "import IPython\n",
        "\n",
        "app = IPython.Application.instance()\n",
        "app.kernel.do_shutdown(True)"
      ]
    },
    {
      "cell_type": "markdown",
      "metadata": {
        "id": "SbmM4z7FOBpM"
      },
      "source": [
        "<div class=\"alert alert-block alert-warning\">\n",
        "<b>⚠️ The kernel is going to restart. Wait until it's finished before continuing to the next step. ⚠️</b>\n",
        "</div>\n"
      ]
    },
    {
      "cell_type": "markdown",
      "metadata": {
        "id": "DF4l8DTdWgPY"
      },
      "source": [
        "### Set Google Cloud project information and initialize Vertex AI SDK\n",
        "\n",
        "To get started using Vertex AI, you must have an existing Google Cloud project and [enable the Vertex AI API](https://console.cloud.google.com/flows/enableapi?apiid=aiplatform.googleapis.com).\n",
        "\n",
        "Learn more about [setting up a project and a development environment](https://cloud.google.com/vertex-ai/docs/start/cloud-environment)."
      ]
    },
    {
      "cell_type": "code",
      "execution_count": null,
      "metadata": {
        "id": "Nqwi-5ufWp_B"
      },
      "outputs": [],
      "source": [
        "# Use the environment variable if the user doesn't provide Project ID.\n",
        "import os\n",
        "from google.cloud import storage\n",
        "from google import genai\n",
        "import vertexai\n",
        "\n",
        "PROJECT_ID = \"oa-bta-learning-dv\"  # @param {type: \"string\", placeholder: \"[your-project-id]\", isTemplate: true}\n",
        "LOCATION = \"europe-west4\"\n",
        "\n",
        "vertexai.init(project=PROJECT_ID, location=LOCATION)\n",
        "client = genai.Client(vertexai=True, project=PROJECT_ID, location=LOCATION)"
      ]
    },
    {
      "cell_type": "markdown",
      "metadata": {
        "id": "5303c05f7aa6"
      },
      "source": [
        "### Import libraries"
      ]
    },
    {
      "cell_type": "code",
      "execution_count": 6,
      "metadata": {
        "id": "6fc324893334"
      },
      "outputs": [],
      "source": [
        "from IPython.display import Markdown, display\n",
        "from google.genai.types import GenerateContentConfig, Retrieval, Tool, VertexRagStore\n",
        "from vertexai import rag"
      ]
    },
    {
      "cell_type": "markdown",
      "metadata": {
        "id": "e43229f3ad4f"
      },
      "source": [
        "### Create a RAG Corpus"
      ]
    },
    {
      "cell_type": "code",
      "execution_count": 7,
      "metadata": {
        "id": "cf93d5f0ce00"
      },
      "outputs": [],
      "source": [
        "# Currently supports Google first-party embedding models\n",
        "EMBEDDING_MODEL = \"publishers/google/models/text-embedding-005\"  # @param {type:\"string\", isTemplate: true}\n",
        "\n",
        "rag_corpus = rag.create_corpus(\n",
        "    display_name=\"my-rag-corpus\",\n",
        "    backend_config=rag.RagVectorDbConfig(\n",
        "        rag_embedding_model_config=rag.RagEmbeddingModelConfig(\n",
        "            vertex_prediction_endpoint=rag.VertexPredictionEndpoint(\n",
        "                publisher_model=EMBEDDING_MODEL\n",
        "            )\n",
        "        )\n",
        "    ),\n",
        ")"
      ]
    },
    {
      "cell_type": "markdown",
      "metadata": {
        "id": "197c585b61b2"
      },
      "source": [
        "### Check the corpus just created"
      ]
    },
    {
      "cell_type": "code",
      "execution_count": 8,
      "metadata": {
        "id": "f229b13dc617"
      },
      "outputs": [
        {
          "data": {
            "text/plain": [
              "ListRagCorporaPager<rag_corpora {\n",
              "  name: \"projects/oa-bta-learning-dv/locations/europe-west4/ragCorpora/6917529027641081856\"\n",
              "  display_name: \"my-rag-corpus\"\n",
              "  create_time {\n",
              "    seconds: 1750681983\n",
              "    nanos: 580964000\n",
              "  }\n",
              "  update_time {\n",
              "    seconds: 1750681983\n",
              "    nanos: 580964000\n",
              "  }\n",
              "  corpus_status {\n",
              "    state: ACTIVE\n",
              "  }\n",
              "  vector_db_config {\n",
              "    rag_managed_db {\n",
              "      knn {\n",
              "      }\n",
              "    }\n",
              "    rag_embedding_model_config {\n",
              "      vertex_prediction_endpoint {\n",
              "        endpoint: \"projects/oa-bta-learning-dv/locations/europe-west4/publishers/google/models/text-embedding-005\"\n",
              "      }\n",
              "    }\n",
              "  }\n",
              "}\n",
              ">"
            ]
          },
          "execution_count": 8,
          "metadata": {},
          "output_type": "execute_result"
        }
      ],
      "source": [
        "rag.list_corpora()"
      ]
    },
    {
      "cell_type": "markdown",
      "metadata": {
        "id": "5269a0c2786d"
      },
      "source": [
        "### Import files from Google Cloud Storage\n",
        "\n",
        "Here we will import pdf files into the rag corpus"
      ]
    },
    {
      "cell_type": "code",
      "execution_count": 12,
      "metadata": {},
      "outputs": [
        {
          "name": "stdout",
          "output_type": "stream",
          "text": [
            "Hackathon_user_profile_synthethic_data.xlsx\n",
            "Noli Article PDFs/Cleanse.pdf\n",
            "Noli Article PDFs/Moisturise.pdf\n",
            "Noli Article PDFs/Prepare.pdf\n",
            "Noli Article PDFs/Protect.pdf\n",
            "Noli Article PDFs/Skin_Layering.pdf\n",
            "Noli Article PDFs/The_truth_about_Adenosine.pdf\n",
            "Noli Article PDFs/The_truth_about_Caffeine.pdf\n",
            "Noli Article PDFs/The_truth_about_Citric_Acid.pdf\n",
            "Noli Article PDFs/The_truth_about_Glycerin.pdf\n",
            "Noli Article PDFs/The_truth_about_Glycolic_Acid.pdf\n",
            "Noli Article PDFs/The_truth_about_Hyaluronic_Acid.pdf\n",
            "Noli Article PDFs/The_truth_about_Niacinamide.pdf\n",
            "Noli Article PDFs/The_truth_about_Panthenol.pdf\n",
            "Noli Article PDFs/The_truth_about_Propylene_Glycol.pdf\n",
            "Noli Article PDFs/The_truth_about_Vitamin_C.pdf\n",
            "Noli Article PDFs/The_truth_about_Vitamin_E.pdf\n",
            "Noli Article PDFs/The_truth_about_balanced_skin.pdf\n",
            "Noli Article PDFs/The_truth_about_balms.pdf\n",
            "Noli Article PDFs/The_truth_about_blemish_prone_skin.pdf\n",
            "Noli Article PDFs/The_truth_about_ceramides.pdf\n",
            "Noli Article PDFs/The_truth_about_cleansers.pdf\n",
            "Noli Article PDFs/The_truth_about_combination_skin.pdf\n",
            "Noli Article PDFs/The_truth_about_creams_and_lotions.pdf\n",
            "Noli Article PDFs/The_truth_about_dark_circles.pdf\n",
            "Noli Article PDFs/The_truth_about_dry_skin.pdf\n",
            "Noli Article PDFs/The_truth_about_dryness.pdf\n",
            "Noli Article PDFs/The_truth_about_dullness.pdf\n",
            "Noli Article PDFs/The_truth_about_exfoliators.pdf\n",
            "Noli Article PDFs/The_truth_about_eye_care.pdf\n",
            "Noli Article PDFs/The_truth_about_facial_oils.pdf\n",
            "Noli Article PDFs/The_truth_about_fine_lines_and_wrinkles.pdf\n",
            "Noli Article PDFs/The_truth_about_hyper_pigmentation.pdf\n",
            "Noli Article PDFs/The_truth_about_lack_of_firmness.pdf\n",
            "Noli Article PDFs/The_truth_about_lactic_acid.pdf\n",
            "Noli Article PDFs/The_truth_about_lip_care.pdf\n",
            "Noli Article PDFs/The_truth_about_makeup_removers.pdf\n",
            "Noli Article PDFs/The_truth_about_masks.pdf\n",
            "Noli Article PDFs/The_truth_about_micellar_waters.pdf\n",
            "Noli Article PDFs/The_truth_about_mists.pdf\n",
            "Noli Article PDFs/The_truth_about_oily_skin.pdf\n",
            "Noli Article PDFs/The_truth_about_pores_and_blackheads.pdf\n",
            "Noli Article PDFs/The_truth_about_redness.pdf\n",
            "Noli Article PDFs/The_truth_about_retinol.pdf\n",
            "Noli Article PDFs/The_truth_about_salicylic_acid.pdf\n",
            "Noli Article PDFs/The_truth_about_sensitive_skin.pdf\n",
            "Noli Article PDFs/The_truth_about_serums.pdf\n",
            "Noli Article PDFs/The_truth_about_sun_protection.pdf\n",
            "Noli Article PDFs/The_truth_about_toners.pdf\n",
            "Noli Article PDFs/The_truth_about_uneven_skin.pdf\n",
            "Noli Article PDFs/Treat.pdf\n",
            "Noli FAQ PDFs/Contact_Us.pdf\n",
            "Noli FAQ PDFs/Money_Back_Guaranteed.pdf\n",
            "Noli FAQ PDFs/My_Account.pdf\n",
            "Noli FAQ PDFs/Orders.pdf\n",
            "Noli FAQ PDFs/Payments.pdf\n",
            "Noli FAQ PDFs/Products_and_Services.pdf\n",
            "Noli FAQ PDFs/Promotion_T&Cs.pdf\n",
            "Noli FAQ PDFs/Returns_and_Refunds.pdf\n",
            "Noli FAQ PDFs/Shipping_&_Order_Tracking.pdf\n"
          ]
        }
      ],
      "source": [
        "def list_blobs(bucket_name):\n",
        "    \"\"\"Lists all the blobs in the bucket.\"\"\"\n",
        "    # bucket_name = \"hackathon-team-1-rag-data\"\n",
        "    storage_client = storage.Client()\n",
        "    bucket = storage_client.get_bucket(bucket_name)\n",
        "    blobs = bucket.list_blobs()\n",
        "    for blob in blobs:\n",
        "        print(blob.name)\n",
        "list_blobs(\"hackathon-team-1-rag-data\")"
      ]
    },
    {
      "cell_type": "code",
      "execution_count": 17,
      "metadata": {
        "id": "5910ae450f69"
      },
      "outputs": [],
      "source": [
        "INPUT_GCS_BUCKET = (\n",
        "    \"gs://hackathon-team-1-rag-data/Noli FAQ PDFs/\"\n",
        ")\n",
        "\n",
        "response = rag.import_files(\n",
        "    corpus_name=rag_corpus.name,\n",
        "    paths=[INPUT_GCS_BUCKET],\n",
        "    # Optional\n",
        "    transformation_config=rag.TransformationConfig(\n",
        "        chunking_config=rag.ChunkingConfig(chunk_size=1024, chunk_overlap=100)\n",
        "    ),\n",
        "    max_embedding_requests_per_min=900,  # Optional\n",
        ")"
      ]
    },
    {
      "cell_type": "markdown",
      "metadata": {
        "id": "f700b3e23121"
      },
      "source": [
        "### Optional: Perform direct context retrieval"
      ]
    },
    {
      "cell_type": "code",
      "execution_count": 18,
      "metadata": {
        "id": "4669c5cdbb5a"
      },
      "outputs": [
        {
          "name": "stdout",
          "output_type": "stream",
          "text": [
            "contexts {\n",
            "  contexts {\n",
            "    source_uri: \"gs://hackathon-team-1-rag-data/Noli FAQ PDFs/Contact_Us.pdf\"\n",
            "    text: \"FAQs - Contact Us\\r\\nQ: Email\\r\\nEmail us at: help@support.noli.com\"\n",
            "    source_display_name: \"Contact_Us.pdf\"\n",
            "    score: 0.18890072023445559\n",
            "    chunk {\n",
            "      text: \"FAQs - Contact Us\\r\\nQ: Email\\r\\nEmail us at: help@support.noli.com\"\n",
            "      page_span {\n",
            "        first_page: 1\n",
            "        last_page: 1\n",
            "      }\n",
            "    }\n",
            "  }\n",
            "  contexts {\n",
            "    source_uri: \"gs://hackathon-team-1-rag-data/Noli FAQ PDFs/My_Account.pdf\"\n",
            "    text: \"FAQs - My Account\\r\\nQ: How do I create an account?\\r\\nCreating your account is easy. Click here and follow the simple steps.\\r\\nQ: How do I re-set my password?\\r\\nForget your password or just want to change it? No stress! Please log out or go directly to the\\r\\nsign-in screen and click ‘Forgotten password?’ and follow the instructions to reset your\\r\\npassword.\\r\\nQ: How do I delete my account?\\r\\nAlthough it\\'s sad to see you go, you can email us at help@support.noli.com and we\\'ll delete\\r\\nyour account.\\r\\nQ: How do I change my account details?\\r\\nIf you\\'d like to change your email address, name or other personal details, let us know at\\r\\nhelp@support.noli.com. Be sure to mention exactly what you want to update and include the\\r\\nnew information, so we can get it right the first time.\"\n",
            "    source_display_name: \"My_Account.pdf\"\n",
            "    score: 0.33394684672056496\n",
            "    chunk {\n",
            "      text: \"FAQs - My Account\\r\\nQ: How do I create an account?\\r\\nCreating your account is easy. Click here and follow the simple steps.\\r\\nQ: How do I re-set my password?\\r\\nForget your password or just want to change it? No stress! Please log out or go directly to the\\r\\nsign-in screen and click ‘Forgotten password?’ and follow the instructions to reset your\\r\\npassword.\\r\\nQ: How do I delete my account?\\r\\nAlthough it\\'s sad to see you go, you can email us at help@support.noli.com and we\\'ll delete\\r\\nyour account.\\r\\nQ: How do I change my account details?\\r\\nIf you\\'d like to change your email address, name or other personal details, let us know at\\r\\nhelp@support.noli.com. Be sure to mention exactly what you want to update and include the\\r\\nnew information, so we can get it right the first time.\"\n",
            "      page_span {\n",
            "        first_page: 1\n",
            "        last_page: 1\n",
            "      }\n",
            "    }\n",
            "  }\n",
            "  contexts {\n",
            "    source_uri: \"gs://hackathon-team-1-rag-data/Noli FAQ PDFs/Returns_and_Refunds.pdf\"\n",
            "    text: \"FAQs - Returns and Refunds\\r\\nQ: What is the standard returns policy?\\r\\nChanged your mind? No biggie.\\r\\nYou can return any order you buy from us for up to thirty (30) days after you receive the\\r\\nproduct for free, subject to the conditions described in our .\\r\\nSometimes we may run promotional offers on returns, please check our promotional for T&Cs;\\r\\nfor details on those.\\r\\nJust get in touch with the support team so they can get a return label out and tell you what to\\r\\ndo next. Email: help@support.noli.com with your order number.\\r\\nQ: How do I return an item?\\r\\nGet in touch with the customer support team so they can email you a return label and tell you\\r\\nwhat to do next. Email: help@support.noli.com with your order number.\\r\\nQ: When will I receive my refund?\\r\\nWhen you’re due a refund, we’ll get it into your account as soon as we can, and no more than\\r\\n14 days after we have received the return.\"\n",
            "    source_display_name: \"Returns_and_Refunds.pdf\"\n",
            "    score: 0.35108724361310895\n",
            "    chunk {\n",
            "      text: \"FAQs - Returns and Refunds\\r\\nQ: What is the standard returns policy?\\r\\nChanged your mind? No biggie.\\r\\nYou can return any order you buy from us for up to thirty (30) days after you receive the\\r\\nproduct for free, subject to the conditions described in our .\\r\\nSometimes we may run promotional offers on returns, please check our promotional for T&Cs;\\r\\nfor details on those.\\r\\nJust get in touch with the support team so they can get a return label out and tell you what to\\r\\ndo next. Email: help@support.noli.com with your order number.\\r\\nQ: How do I return an item?\\r\\nGet in touch with the customer support team so they can email you a return label and tell you\\r\\nwhat to do next. Email: help@support.noli.com with your order number.\\r\\nQ: When will I receive my refund?\\r\\nWhen you’re due a refund, we’ll get it into your account as soon as we can, and no more than\\r\\n14 days after we have received the return.\"\n",
            "      page_span {\n",
            "        first_page: 1\n",
            "        last_page: 1\n",
            "      }\n",
            "    }\n",
            "  }\n",
            "  contexts {\n",
            "    source_uri: \"gs://hackathon-team-1-rag-data/Noli FAQ PDFs/Orders.pdf\"\n",
            "    text: \"FAQs - Orders\\r\\nQ: How do I cancel an order?\\r\\nIf you’ve already had a confirmation email, it’s sadly too late to cancel. Please review the\\r\\nreturns policy and get in touch with customer service so they can talk you through your\\r\\noptions. Please email help@support.noli.com if you have not yet received your confirmation\\r\\nemail and we will support.\\r\\nQ: Can I change my order after placing it?\\r\\nMinds change, miss-clicks and mistakes happen, which is why we have a returns policy. If\\r\\nyou’ve already had the confirmation email, it’s too late to change anything, so proceed as you\\r\\nwould for a return. You can check out the returns policy below.\\r\\nPlease email help@support.noli.com if you have not yet received your confirmation email and\\r\\nwe will support.\\r\\nQ: What is the status of my order?\\r\\nIf you’re on the lookout for your goodies, go back to your order email. The email contains a\\r\\nlink to track your items. Generally, you can expect to receive your order within 1-2 or 2-3\\r\\nbusiness days, depending on the delivery option you chose at checkout. Please note that your\\r\\ndelivery may take longer to arrive during bank holidays (non-working days).\\r\\nQ: An item is out of stock when will it be available again?\\r\\nOur team works tirelessly to ensure the products you love are ready to hit your basket. If you\\r\\ndo find something out of stock, it’s best to look again in five working days. You might also like\\r\\nto use BeautyDNA to find your next favourite product.\\r\\nQ: How will I know when my order has been dispatched?\\r\\nWe’ll email you as soon as your order has been handed to Royal Mail. The email will include a\\r\\nhandy tracking link and you will also get regular updates on the progress of the parcel.\\r\\nQ: I have received a faulty or damaged item, what shall I do?\\r\\nWe’re sorry to hear your experience was anything less than perfect. Please email our\\r\\ncustomer team so they can get everything sorted for you. Email help@support.noli.com.\\r\\nQ: I have received the wrong order or there is an item missing from my order,\\r\\nwhat shall I do?\\r\\nWe pack every order like we were applying eyeliner, but smudges and slips happen. If you\\r\\nreceived the wrong item, get straight on to our customer service team and they will support\\r\\nyou. Email: help@support.noli.com.Q: I have had a reaction to a product I bought, what do I do?\\r\\nWe’re sorry to hear your experience was less than perfect. Please email our customer team\\r\\nso they can get everything sorted for you. Email help@support.noli.com.\\r\\nIf you ever experience a medical emergency using a product, please contact your local\\r\\nemergency services.\"\n",
            "    source_display_name: \"Orders.pdf\"\n",
            "    score: 0.3863229620307872\n",
            "    chunk {\n",
            "      text: \"FAQs - Orders\\r\\nQ: How do I cancel an order?\\r\\nIf you’ve already had a confirmation email, it’s sadly too late to cancel. Please review the\\r\\nreturns policy and get in touch with customer service so they can talk you through your\\r\\noptions. Please email help@support.noli.com if you have not yet received your confirmation\\r\\nemail and we will support.\\r\\nQ: Can I change my order after placing it?\\r\\nMinds change, miss-clicks and mistakes happen, which is why we have a returns policy. If\\r\\nyou’ve already had the confirmation email, it’s too late to change anything, so proceed as you\\r\\nwould for a return. You can check out the returns policy below.\\r\\nPlease email help@support.noli.com if you have not yet received your confirmation email and\\r\\nwe will support.\\r\\nQ: What is the status of my order?\\r\\nIf you’re on the lookout for your goodies, go back to your order email. The email contains a\\r\\nlink to track your items. Generally, you can expect to receive your order within 1-2 or 2-3\\r\\nbusiness days, depending on the delivery option you chose at checkout. Please note that your\\r\\ndelivery may take longer to arrive during bank holidays (non-working days).\\r\\nQ: An item is out of stock when will it be available again?\\r\\nOur team works tirelessly to ensure the products you love are ready to hit your basket. If you\\r\\ndo find something out of stock, it’s best to look again in five working days. You might also like\\r\\nto use BeautyDNA to find your next favourite product.\\r\\nQ: How will I know when my order has been dispatched?\\r\\nWe’ll email you as soon as your order has been handed to Royal Mail. The email will include a\\r\\nhandy tracking link and you will also get regular updates on the progress of the parcel.\\r\\nQ: I have received a faulty or damaged item, what shall I do?\\r\\nWe’re sorry to hear your experience was anything less than perfect. Please email our\\r\\ncustomer team so they can get everything sorted for you. Email help@support.noli.com.\\r\\nQ: I have received the wrong order or there is an item missing from my order,\\r\\nwhat shall I do?\\r\\nWe pack every order like we were applying eyeliner, but smudges and slips happen. If you\\r\\nreceived the wrong item, get straight on to our customer service team and they will support\\r\\nyou. Email: help@support.noli.com.Q: I have had a reaction to a product I bought, what do I do?\\r\\nWe’re sorry to hear your experience was less than perfect. Please email our customer team\\r\\nso they can get everything sorted for you. Email help@support.noli.com.\\r\\nIf you ever experience a medical emergency using a product, please contact your local\\r\\nemergency services.\"\n",
            "      page_span {\n",
            "        first_page: 1\n",
            "        last_page: 2\n",
            "      }\n",
            "    }\n",
            "  }\n",
            "  contexts {\n",
            "    source_uri: \"gs://hackathon-team-1-rag-data/Noli FAQ PDFs/Shipping_&_Order_Tracking.pdf\"\n",
            "    text: \"FAQs - Shipping & Order Tracking\\r\\nQ: Do you ship outside of the UK?\\r\\nFor the moment, we only ship within the UK and that doesn’t include the Channel Islands or\\r\\nthe Isle of Man.\\r\\nQ: Where is my order?\\r\\nIf you’ve had a shipping confirmation, you can use the courier’s tracking link to see where\\r\\nyour order is.\\r\\nIf that doesn’t work or you think the courier has lost the parcel, please contact us on\\r\\nhelp@support.noli.com and we will investigate further.\\r\\nQ: What are the delivery options and shipping costs?\\r\\nWe offer two delivery options through Royal Mail:\\r\\n1) Express 24h delivery - typically arrives within 1-2 business days. 2) Standard 48h delivery -\\r\\ntypically arrives within 2-3 business days.\\r\\nShipping costs depend on the order and exact costs are calculated at checkout. Please note\\r\\nthat your delivery may take longer to arrive during bank holidays (non-working days).\\r\\nQ: Do you deliver to PO boxes?\\r\\nWe currently only deliver to homes and offices within the UK and that doesn’t include the\\r\\nChannel Islands or the Isle of Man.\"\n",
            "    source_display_name: \"Shipping_&_Order_Tracking.pdf\"\n",
            "    score: 0.39504851523848927\n",
            "    chunk {\n",
            "      text: \"FAQs - Shipping & Order Tracking\\r\\nQ: Do you ship outside of the UK?\\r\\nFor the moment, we only ship within the UK and that doesn’t include the Channel Islands or\\r\\nthe Isle of Man.\\r\\nQ: Where is my order?\\r\\nIf you’ve had a shipping confirmation, you can use the courier’s tracking link to see where\\r\\nyour order is.\\r\\nIf that doesn’t work or you think the courier has lost the parcel, please contact us on\\r\\nhelp@support.noli.com and we will investigate further.\\r\\nQ: What are the delivery options and shipping costs?\\r\\nWe offer two delivery options through Royal Mail:\\r\\n1) Express 24h delivery - typically arrives within 1-2 business days. 2) Standard 48h delivery -\\r\\ntypically arrives within 2-3 business days.\\r\\nShipping costs depend on the order and exact costs are calculated at checkout. Please note\\r\\nthat your delivery may take longer to arrive during bank holidays (non-working days).\\r\\nQ: Do you deliver to PO boxes?\\r\\nWe currently only deliver to homes and offices within the UK and that doesn’t include the\\r\\nChannel Islands or the Isle of Man.\"\n",
            "      page_span {\n",
            "        first_page: 1\n",
            "        last_page: 1\n",
            "      }\n",
            "    }\n",
            "  }\n",
            "  contexts {\n",
            "    source_uri: \"gs://hackathon-team-1-rag-data/Noli FAQ PDFs/Payments.pdf\"\n",
            "    text: \"FAQs - Payments\\r\\nQ: Which payment methods do you accept?\\r\\nWe accept Visa and Mastercard.\\r\\nQ: What currencies can I make payment in?\\r\\nYou can only make payments in GBP (£)\\r\\nQ: How do I use a discount code?\\r\\nGot a code? Great. Keep it handy until the last stage of checkout, just before you pay.\\r\\nRemember: Promo codes are case sensitive!\\r\\nQ: Why is my discount code not working?\\r\\nCodes are case sensitive, so try again with that in mind. If that didn’t work, drop us an email at\\r\\nhelp@support.noli.com so we can look into it for you.\\r\\nQ: Why isn\\'t my card being accepted?\\r\\nIf you are having problems paying with your card, please verify it is one of the payment\\r\\nmethods we accept.\\r\\nStill having trouble? Please contact your card issuer or bank.\"\n",
            "    source_display_name: \"Payments.pdf\"\n",
            "    score: 0.41935529309015673\n",
            "    chunk {\n",
            "      text: \"FAQs - Payments\\r\\nQ: Which payment methods do you accept?\\r\\nWe accept Visa and Mastercard.\\r\\nQ: What currencies can I make payment in?\\r\\nYou can only make payments in GBP (£)\\r\\nQ: How do I use a discount code?\\r\\nGot a code? Great. Keep it handy until the last stage of checkout, just before you pay.\\r\\nRemember: Promo codes are case sensitive!\\r\\nQ: Why is my discount code not working?\\r\\nCodes are case sensitive, so try again with that in mind. If that didn’t work, drop us an email at\\r\\nhelp@support.noli.com so we can look into it for you.\\r\\nQ: Why isn\\'t my card being accepted?\\r\\nIf you are having problems paying with your card, please verify it is one of the payment\\r\\nmethods we accept.\\r\\nStill having trouble? Please contact your card issuer or bank.\"\n",
            "      page_span {\n",
            "        first_page: 1\n",
            "        last_page: 1\n",
            "      }\n",
            "    }\n",
            "  }\n",
            "  contexts {\n",
            "    source_uri: \"gs://hackathon-team-1-rag-data/Noli FAQ PDFs/Promotion_T&Cs.pdf\"\n",
            "    text: \"FAQs - Promotion T&Cs;\\r\\nQ: Free Shipping T&Cs;\\r\\nFree delivery on all orders over £20. UK residents only. Please check our delivery and returns\\r\\npolicy. Free delivery applies only to Standard Delivery. Noli is the trading division of Beauty\\r\\nTech Lab Ltd, 53-64 Chancery Ln, London, WC2A 1QS.\\r\\nQ: First Purchase Discounts T&Cs;\\r\\nUK residents only. Welcome Discount Codes (e.g. WELCOME20) can only be applied on\\r\\norders greater than £30 in value. Welcome Discount Codes cannot be applied in conjunction\\r\\nwith other offers. Welcome Discount Codes can only be applied on the customer’s first order.\\r\\nOne redemption per customer. Subject to availability, whilst stocks last. Incomplete, illegal,\\r\\nmisdirected or late redemptions will not be valid. Noli is not responsible for redemptions lost,\\r\\ndamaged or delayed due to technical or connectivity or other problems. Noli is the trading\\r\\ndivision of Beauty Tech Lab Ltd, 53-64 Chancery Ln, London, WC2A 1QS.\\r\\nQ: POWEROF3 T&Cs;\\r\\nUK residents only. POWEROF3 code cannot be applied in conjunction with other offers.\\r\\nApplies only on carts with multiple of 3 units of CeraVe or La Roche Posay brands. 100%\\r\\ndiscount on the cheapest item. One redemption per customer. Subject to availability, whilst\\r\\nstocks last. Incomplete, illegal, misdirected or late redemptions will not be valid. Noli is not\\r\\nresponsible for redemptions lost, damaged or delayed due to technical or connectivity or other\\r\\nproblems. Noli is the trading division of Beauty Tech Lab Ltd, 53-64 Chancery Ln, London,\\r\\nWC2A 1QS.\\r\\nQ: KIEHLS50 T&Cs;\\r\\nUK residents only. KIEHLS50 code cannot be applied in conjunction with other offers. Applies\\r\\nonly on carts with multiple of 2 units of the Kiehl\\'s brand. 50% discount on the cheapest item.\\r\\nOne redemption per customer. Subject to availability, whilst stocks last. Incomplete, illegal,\\r\\nmisdirected or late redemptions will not be valid. Noli is not responsible for redemptions lost,\\r\\ndamaged or delayed due to technical or connectivity or other problems. Noli is the trading\\r\\ndivision of Beauty Tech Lab Ltd, 53-64 Chancery Ln, London, WC2A 1QS.\\r\\nQ: Noli Beauty Comment-to-Win Prize Draw - May T&Cs;\\r\\n£100 Voucher Contest -\\r\\nTerms & Conditions (scroll to the bottom to start the survey):\\r\\n*UK residents aged +18 only. Entrants must be part of Noli Beta. Offer available at noli.com. 1\\r\\nx £100 voucher prize draw if you complete this Noli feedback survey before end of day, 31st\\r\\nMay. Winner is selected at random and will be notified via the email address they input in thisform by 03/06/2025. By entering this contest, you agree to be bound by these terms and\\r\\nconditions.\\r\\nBy entering the contest, you agree to be bound by these terms and conditions (these \\\"Terms\\r\\nand Conditions\\\"). Promotional materials relating to the promotion, including all information on\\r\\nhow to enter the promotion, also form part of these Terms and Conditions. In the event of any\\r\\nconflict between any terms referred to in such promotion materials and these Terms and\\r\\nConditions, these Terms and Conditions take precedence.\\r\\nGENERAL DETAILS\\r\\nPromotion Name and Description: Noli Feedback Survey, May 2025\\r\\nPromoter: Noli, the trading division of Beauty Tech Lab Ltd, 53-64 Chancery Ln, London,\\r\\nWC2A 1QS.\\r\\nEntry Open Date: 09:00 on 01/5/2025 UK time\\r\\nEntry Closing Date: 23:59 on 31/5/2025 UK time\\r\\nPrivacy Policy:\\r\\nENTRY\\r\\nEligibility:\\r\\nResidents aged 18+ only.\\r\\nEntrants must be part of Noli Beta\\r\\nHOW TO ENTER\\r\\nor your chance to win, complete the survey at 5 within the described time period.\\r\\nPRIZE DETAILS\\r\\nCoupon code of £100 value, redeemable only at on qualifying carts\\r\\nNumber of winners: 1\\r\\nDRAW DETAILSPrize Draw Date: 03/06/2025\\r\\nNotification of Winner(s): Winner(s) are selected at random and will be notified via the email\\r\\naddress they entered into this form by 06/06/2025\\r\\nGENERAL TERMS AND CONDITIONS\\r\\nEntry and eligibility\\r\\nEntries must be received between the Entry Open Date and the Entry Closing Date.\"\n",
            "    source_display_name: \"Promotion_T&Cs.pdf\"\n",
            "    score: 0.42000914274703172\n",
            "    chunk {\n",
            "      text: \"FAQs - Promotion T&Cs;\\r\\nQ: Free Shipping T&Cs;\\r\\nFree delivery on all orders over £20. UK residents only. Please check our delivery and returns\\r\\npolicy. Free delivery applies only to Standard Delivery. Noli is the trading division of Beauty\\r\\nTech Lab Ltd, 53-64 Chancery Ln, London, WC2A 1QS.\\r\\nQ: First Purchase Discounts T&Cs;\\r\\nUK residents only. Welcome Discount Codes (e.g. WELCOME20) can only be applied on\\r\\norders greater than £30 in value. Welcome Discount Codes cannot be applied in conjunction\\r\\nwith other offers. Welcome Discount Codes can only be applied on the customer’s first order.\\r\\nOne redemption per customer. Subject to availability, whilst stocks last. Incomplete, illegal,\\r\\nmisdirected or late redemptions will not be valid. Noli is not responsible for redemptions lost,\\r\\ndamaged or delayed due to technical or connectivity or other problems. Noli is the trading\\r\\ndivision of Beauty Tech Lab Ltd, 53-64 Chancery Ln, London, WC2A 1QS.\\r\\nQ: POWEROF3 T&Cs;\\r\\nUK residents only. POWEROF3 code cannot be applied in conjunction with other offers.\\r\\nApplies only on carts with multiple of 3 units of CeraVe or La Roche Posay brands. 100%\\r\\ndiscount on the cheapest item. One redemption per customer. Subject to availability, whilst\\r\\nstocks last. Incomplete, illegal, misdirected or late redemptions will not be valid. Noli is not\\r\\nresponsible for redemptions lost, damaged or delayed due to technical or connectivity or other\\r\\nproblems. Noli is the trading division of Beauty Tech Lab Ltd, 53-64 Chancery Ln, London,\\r\\nWC2A 1QS.\\r\\nQ: KIEHLS50 T&Cs;\\r\\nUK residents only. KIEHLS50 code cannot be applied in conjunction with other offers. Applies\\r\\nonly on carts with multiple of 2 units of the Kiehl\\'s brand. 50% discount on the cheapest item.\\r\\nOne redemption per customer. Subject to availability, whilst stocks last. Incomplete, illegal,\\r\\nmisdirected or late redemptions will not be valid. Noli is not responsible for redemptions lost,\\r\\ndamaged or delayed due to technical or connectivity or other problems. Noli is the trading\\r\\ndivision of Beauty Tech Lab Ltd, 53-64 Chancery Ln, London, WC2A 1QS.\\r\\nQ: Noli Beauty Comment-to-Win Prize Draw - May T&Cs;\\r\\n£100 Voucher Contest -\\r\\nTerms & Conditions (scroll to the bottom to start the survey):\\r\\n*UK residents aged +18 only. Entrants must be part of Noli Beta. Offer available at noli.com. 1\\r\\nx £100 voucher prize draw if you complete this Noli feedback survey before end of day, 31st\\r\\nMay. Winner is selected at random and will be notified via the email address they input in thisform by 03/06/2025. By entering this contest, you agree to be bound by these terms and\\r\\nconditions.\\r\\nBy entering the contest, you agree to be bound by these terms and conditions (these \\\"Terms\\r\\nand Conditions\\\"). Promotional materials relating to the promotion, including all information on\\r\\nhow to enter the promotion, also form part of these Terms and Conditions. In the event of any\\r\\nconflict between any terms referred to in such promotion materials and these Terms and\\r\\nConditions, these Terms and Conditions take precedence.\\r\\nGENERAL DETAILS\\r\\nPromotion Name and Description: Noli Feedback Survey, May 2025\\r\\nPromoter: Noli, the trading division of Beauty Tech Lab Ltd, 53-64 Chancery Ln, London,\\r\\nWC2A 1QS.\\r\\nEntry Open Date: 09:00 on 01/5/2025 UK time\\r\\nEntry Closing Date: 23:59 on 31/5/2025 UK time\\r\\nPrivacy Policy:\\r\\nENTRY\\r\\nEligibility:\\r\\nResidents aged 18+ only.\\r\\nEntrants must be part of Noli Beta\\r\\nHOW TO ENTER\\r\\nor your chance to win, complete the survey at 5 within the described time period.\\r\\nPRIZE DETAILS\\r\\nCoupon code of £100 value, redeemable only at on qualifying carts\\r\\nNumber of winners: 1\\r\\nDRAW DETAILSPrize Draw Date: 03/06/2025\\r\\nNotification of Winner(s): Winner(s) are selected at random and will be notified via the email\\r\\naddress they entered into this form by 06/06/2025\\r\\nGENERAL TERMS AND CONDITIONS\\r\\nEntry and eligibility\\r\\nEntries must be received between the Entry Open Date and the Entry Closing Date.\"\n",
            "      page_span {\n",
            "        first_page: 1\n",
            "        last_page: 3\n",
            "      }\n",
            "    }\n",
            "  }\n",
            "  contexts {\n",
            "    source_uri: \"gs://hackathon-team-1-rag-data/Noli FAQ PDFs/Promotion_T&Cs.pdf\"\n",
            "    text: \"Customers will recieve a 20% discount on haircare orders with 2 products\\r\\nor a 30% discount on haircare orders with 3+ products. One redemption per customer.\\r\\nSubject to availability, whilst stocks last. Incomplete, illegal, misdirected or late redemptions\\r\\nwill not be valid. Noli is not responsible for redemptions lost, damaged or delayed due to\\r\\ntechnical or connectivity or other problems. Noli is the trading division of Beauty Tech Lab\\r\\nLtd, 53-64 Chancery Ln, London, WC2A 1QS.\\r\\nQ: EXTRA5 T&Cs;\\r\\nUK residents only. EXTRA5 code can only be applied on orders worth £50+ to receive £5 off\\r\\nproducts. One redemption per customer. Subject to availability, whilst stocks last. Incomplete,\\r\\nillegal, misdirected or late redemptions will not be valid. Noli is not responsible for\\r\\nredemptions lost, damaged or delayed due to technical or connectivity or other problems. Noli\\r\\nis the trading division of Beauty Tech Lab Ltd, 53-64 Chancery Ln, London, WC2A 1QS.\\r\\nQ: INFLUENCER CODE T&Cs;\\r\\nUK residents only. Customers with a cart value over £30 who use a designated influencer\\r\\nprovided code will receive a 25% discount on all items included. Excludes items from\\r\\nSkincuticals, Aesop, Shuuemura, Kerastase Paris, Yves Saint Laurent. Promotion cannot be\\r\\napplied in conjunction with other offers. Noli is the trading division of Beauty Tech Lab Ltd,\\r\\n53-64 Chancery Ln, London, WC2A 1QS.\"\n",
            "    source_display_name: \"Promotion_T&Cs.pdf\"\n",
            "    score: 0.423605754931517\n",
            "    chunk {\n",
            "      text: \"Customers will recieve a 20% discount on haircare orders with 2 products\\r\\nor a 30% discount on haircare orders with 3+ products. One redemption per customer.\\r\\nSubject to availability, whilst stocks last. Incomplete, illegal, misdirected or late redemptions\\r\\nwill not be valid. Noli is not responsible for redemptions lost, damaged or delayed due to\\r\\ntechnical or connectivity or other problems. Noli is the trading division of Beauty Tech Lab\\r\\nLtd, 53-64 Chancery Ln, London, WC2A 1QS.\\r\\nQ: EXTRA5 T&Cs;\\r\\nUK residents only. EXTRA5 code can only be applied on orders worth £50+ to receive £5 off\\r\\nproducts. One redemption per customer. Subject to availability, whilst stocks last. Incomplete,\\r\\nillegal, misdirected or late redemptions will not be valid. Noli is not responsible for\\r\\nredemptions lost, damaged or delayed due to technical or connectivity or other problems. Noli\\r\\nis the trading division of Beauty Tech Lab Ltd, 53-64 Chancery Ln, London, WC2A 1QS.\\r\\nQ: INFLUENCER CODE T&Cs;\\r\\nUK residents only. Customers with a cart value over £30 who use a designated influencer\\r\\nprovided code will receive a 25% discount on all items included. Excludes items from\\r\\nSkincuticals, Aesop, Shuuemura, Kerastase Paris, Yves Saint Laurent. Promotion cannot be\\r\\napplied in conjunction with other offers. Noli is the trading division of Beauty Tech Lab Ltd,\\r\\n53-64 Chancery Ln, London, WC2A 1QS.\"\n",
            "      page_span {\n",
            "        first_page: 5\n",
            "        last_page: 5\n",
            "      }\n",
            "    }\n",
            "  }\n",
            "  contexts {\n",
            "    source_uri: \"gs://hackathon-team-1-rag-data/Noli FAQ PDFs/Products_and_Services.pdf\"\n",
            "    text: \"FAQs - Products and Services\\r\\n-- BeautyDNA --\\r\\nQ: What is BeautyDNA?\\r\\nBeautyDNA is your personal beauty profile, created by listening to you. It’s a beautifully useful\\r\\nblend of your skin type and concerns, sensitivity and stuff we know you\\'ll just love. A\\r\\ncompleted BeautyDNA lets us fill your Super Match section with perfect product matches for\\r\\neach step of your skincare routine. Every product on the site will also show you a match\\r\\nscore, helping you understanding whether a product is right for you.\\r\\nQ: What is a match score?\\r\\nA match score tells you how well we think a product will work for you and your skin’s unique\\r\\nneeds.\\r\\nHere’s how it works: we score each product against your skin concerns, skin sensitivity, skin\\r\\ntype and personal preferences (like texture or scent). Each match score is personalised to\\r\\nyou, helping you make a great choice. When your BeautyDNA profile is completed, you\\'ll see\\r\\nthe match score for each product, helping you make more informed decisions when shopping.\\r\\nQ: How do you calculate my match score?\\r\\nWe use feedback from skincare enthusiasts, brilliant experts (like dermatologists) and science\\r\\nto train our matching algorithm, which offers 700k+ distinctive combinations. What we DON’T\\r\\ninclude is price, promotions or advertising claims.\\r\\nQ: How do I sign-up for BDNA?\\r\\nYou can access BeautyDNA at any point by clicking the BeautyDNA button in the navigation\\r\\nbar. Do BeautyDNA and start getting to know what your skin really needs.\\r\\n-- Products --\\r\\nQ: Do you have any stores?\\r\\nAt the moment we are a completely digital service. This allows us to create a really tailored\\r\\ncustomer experience.\\r\\nQ: How can we improve?\\r\\nIf you have any tips on how we can be better, don’t sit on them. Send an email to\\r\\nhelp@support.noli.com\"\n",
            "    source_display_name: \"Products_and_Services.pdf\"\n",
            "    score: 0.44569835751612086\n",
            "    chunk {\n",
            "      text: \"FAQs - Products and Services\\r\\n-- BeautyDNA --\\r\\nQ: What is BeautyDNA?\\r\\nBeautyDNA is your personal beauty profile, created by listening to you. It’s a beautifully useful\\r\\nblend of your skin type and concerns, sensitivity and stuff we know you\\'ll just love. A\\r\\ncompleted BeautyDNA lets us fill your Super Match section with perfect product matches for\\r\\neach step of your skincare routine. Every product on the site will also show you a match\\r\\nscore, helping you understanding whether a product is right for you.\\r\\nQ: What is a match score?\\r\\nA match score tells you how well we think a product will work for you and your skin’s unique\\r\\nneeds.\\r\\nHere’s how it works: we score each product against your skin concerns, skin sensitivity, skin\\r\\ntype and personal preferences (like texture or scent). Each match score is personalised to\\r\\nyou, helping you make a great choice. When your BeautyDNA profile is completed, you\\'ll see\\r\\nthe match score for each product, helping you make more informed decisions when shopping.\\r\\nQ: How do you calculate my match score?\\r\\nWe use feedback from skincare enthusiasts, brilliant experts (like dermatologists) and science\\r\\nto train our matching algorithm, which offers 700k+ distinctive combinations. What we DON’T\\r\\ninclude is price, promotions or advertising claims.\\r\\nQ: How do I sign-up for BDNA?\\r\\nYou can access BeautyDNA at any point by clicking the BeautyDNA button in the navigation\\r\\nbar. Do BeautyDNA and start getting to know what your skin really needs.\\r\\n-- Products --\\r\\nQ: Do you have any stores?\\r\\nAt the moment we are a completely digital service. This allows us to create a really tailored\\r\\ncustomer experience.\\r\\nQ: How can we improve?\\r\\nIf you have any tips on how we can be better, don’t sit on them. Send an email to\\r\\nhelp@support.noli.com\"\n",
            "      page_span {\n",
            "        first_page: 1\n",
            "        last_page: 1\n",
            "      }\n",
            "    }\n",
            "  }\n",
            "  contexts {\n",
            "    source_uri: \"gs://hackathon-team-1-rag-data/Noli FAQ PDFs/Promotion_T&Cs.pdf\"\n",
            "    text: \"PRIZE DETAILS\\r\\nCoupon code of £100 value, redeemable only at on qualifying carts\\r\\nNumber of winners: 1\\r\\nDRAW DETAILSPrize Draw Date: 03/06/2025\\r\\nNotification of Winner(s): Winner(s) are selected at random and will be notified via the email\\r\\naddress they entered into this form by 06/06/2025\\r\\nGENERAL TERMS AND CONDITIONS\\r\\nEntry and eligibility\\r\\nEntries must be received between the Entry Open Date and the Entry Closing Date.\\r\\nThe prize draw is free to enter and no purchase is necessary.\\r\\nPromoter’s employees or any third party directly associated with the promotion are not eligible\\r\\nto enter.\\r\\nIncomplete, illegal, misdirected or late entries will not be valid. Proof of complying with the\\r\\nHow to Enter Requirements will not be accepted as proof of receipt or entry. Promoter is not\\r\\nresponsible for entries lost, damaged or delayed due to technical or connectivity or other\\r\\nproblems.\\r\\nOnly one entry per person. Bulk entries from trade, consumer groups or third parties will not\\r\\nbe valid. Multiple entries made by the same person from various email, social media or other\\r\\naccounts or from the same IP address will not be valid.\\r\\nAny entries which do not comply with the How to Enter Requirements will be disqualified.\\r\\nPrize fulfilment and disqualification\\r\\nPrizes are as stated, they are not transferable and there are no alternative prizes or cash\\r\\nsubstitutes. Promoter reserves the right to substitute a prize of equal or greater value in the\\r\\nevent that the selected prize is unavailable for any reason whatsoever.\\r\\nA winner forfeits their prize and the Promoter reserves the right to select at random an\\r\\nalternative winner if:\\r\\nIf a prize is rejected; or\\r\\nIf an entry is invalid or an entrant is disqualified or in breach of these Terms and Conditions.\\r\\nPromoter reserves the right to disqualify an entrant or winner that in its absolute discretion\\r\\ncould bring the Promoter into disrepute.Promoter shall disqualify any entries that have failed to abide by and/or are in breach of these\\r\\nTerms and Conditions.\\r\\nThe name of the winner(s) can be obtained by sending a stamped, self-addressed envelope,\\r\\nwithin 4 weeks of the Prize Draw Date to the Promoter at 53-64 Chancery Ln, London, WC2A\\r\\n1QS., referencing the Promotion Name.\\r\\nPERSONAL INFO\\r\\nAll personal details and/or information given either in the entry process or otherwise must be\\r\\ntruthful, accurate and in no way misleading. Promoter reserves the right to disqualify entrants\\r\\nif they have supplied untruthful, inaccurate or misleading personal details and/or information.\\r\\nAny personal information that entrants share with the Promotor (including name, address,\\r\\nemail, social media profile, or other data) will be kept secure and only used in line with the\\r\\nPromoter’s Privacy Policy and these Terms. By entering the prize draw, entrants acknowledge\\r\\nthat their information may be used by the Promotor and its suppliers to administer the\\r\\npromotion, including in marketing. The Promotor may contact entrants by email, post, phone,\\r\\nSMS or other means in relation to the promotion, but will not send entrants any marketing\\r\\ncommunication unless entrants have also agreed to this.\\r\\nLIMITATION OF LIABILITY\\r\\nNeither the Promoter nor agencies nor suppliers involved in this promotion may be liable to\\r\\nthe winners, whether arising from tort including negligence, breach of contract or otherwise or\\r\\nfor any damage, loss, liabilities, injury or disappointment incurred or suffered whatsoever as a\\r\\nresult of or relating to participation in this prize draw or the prizes to the extent permissible by\\r\\nlaw. No compensation for loss of earnings will be paid by the Promoter for participation in any\\r\\naspect of this prize draw.\\r\\nGENERAL TERMS\\r\\nPromoter’s decision is final and no correspondence will be entered into.\\r\\nPromoter reserves the right in its absolute discretion to amend or waive any of these Terms\\r\\nand Conditions, or suspend or cancel the prize draw at any stage, in the event of\\r\\ncircumstances that are unforeseen or beyond its reasonable control (including suspected or\\r\\nactual fraudulent or misleading practices or other breaches of these Terms and Conditions).\\r\\nEnglish law applies and the English courts shall have exclusive jurisdiction over any\\r\\nproceedings in connection with this promotion\\r\\nQ: HAIRGOALS T&Cs;UK residents only. Customers will recieve a 20% discount on haircare orders with 2 products\\r\\nor a 30% discount on haircare orders with 3+ products. One redemption per customer.\\r\\nSubject to availability, whilst stocks last. Incomplete, illegal, misdirected or late redemptions\\r\\nwill not be valid. Noli is not responsible for redemptions lost, damaged or delayed due to\\r\\ntechnical or connectivity or other problems.\"\n",
            "    source_display_name: \"Promotion_T&Cs.pdf\"\n",
            "    score: 0.47161160341738617\n",
            "    chunk {\n",
            "      text: \"PRIZE DETAILS\\r\\nCoupon code of £100 value, redeemable only at on qualifying carts\\r\\nNumber of winners: 1\\r\\nDRAW DETAILSPrize Draw Date: 03/06/2025\\r\\nNotification of Winner(s): Winner(s) are selected at random and will be notified via the email\\r\\naddress they entered into this form by 06/06/2025\\r\\nGENERAL TERMS AND CONDITIONS\\r\\nEntry and eligibility\\r\\nEntries must be received between the Entry Open Date and the Entry Closing Date.\\r\\nThe prize draw is free to enter and no purchase is necessary.\\r\\nPromoter’s employees or any third party directly associated with the promotion are not eligible\\r\\nto enter.\\r\\nIncomplete, illegal, misdirected or late entries will not be valid. Proof of complying with the\\r\\nHow to Enter Requirements will not be accepted as proof of receipt or entry. Promoter is not\\r\\nresponsible for entries lost, damaged or delayed due to technical or connectivity or other\\r\\nproblems.\\r\\nOnly one entry per person. Bulk entries from trade, consumer groups or third parties will not\\r\\nbe valid. Multiple entries made by the same person from various email, social media or other\\r\\naccounts or from the same IP address will not be valid.\\r\\nAny entries which do not comply with the How to Enter Requirements will be disqualified.\\r\\nPrize fulfilment and disqualification\\r\\nPrizes are as stated, they are not transferable and there are no alternative prizes or cash\\r\\nsubstitutes. Promoter reserves the right to substitute a prize of equal or greater value in the\\r\\nevent that the selected prize is unavailable for any reason whatsoever.\\r\\nA winner forfeits their prize and the Promoter reserves the right to select at random an\\r\\nalternative winner if:\\r\\nIf a prize is rejected; or\\r\\nIf an entry is invalid or an entrant is disqualified or in breach of these Terms and Conditions.\\r\\nPromoter reserves the right to disqualify an entrant or winner that in its absolute discretion\\r\\ncould bring the Promoter into disrepute.Promoter shall disqualify any entries that have failed to abide by and/or are in breach of these\\r\\nTerms and Conditions.\\r\\nThe name of the winner(s) can be obtained by sending a stamped, self-addressed envelope,\\r\\nwithin 4 weeks of the Prize Draw Date to the Promoter at 53-64 Chancery Ln, London, WC2A\\r\\n1QS., referencing the Promotion Name.\\r\\nPERSONAL INFO\\r\\nAll personal details and/or information given either in the entry process or otherwise must be\\r\\ntruthful, accurate and in no way misleading. Promoter reserves the right to disqualify entrants\\r\\nif they have supplied untruthful, inaccurate or misleading personal details and/or information.\\r\\nAny personal information that entrants share with the Promotor (including name, address,\\r\\nemail, social media profile, or other data) will be kept secure and only used in line with the\\r\\nPromoter’s Privacy Policy and these Terms. By entering the prize draw, entrants acknowledge\\r\\nthat their information may be used by the Promotor and its suppliers to administer the\\r\\npromotion, including in marketing. The Promotor may contact entrants by email, post, phone,\\r\\nSMS or other means in relation to the promotion, but will not send entrants any marketing\\r\\ncommunication unless entrants have also agreed to this.\\r\\nLIMITATION OF LIABILITY\\r\\nNeither the Promoter nor agencies nor suppliers involved in this promotion may be liable to\\r\\nthe winners, whether arising from tort including negligence, breach of contract or otherwise or\\r\\nfor any damage, loss, liabilities, injury or disappointment incurred or suffered whatsoever as a\\r\\nresult of or relating to participation in this prize draw or the prizes to the extent permissible by\\r\\nlaw. No compensation for loss of earnings will be paid by the Promoter for participation in any\\r\\naspect of this prize draw.\\r\\nGENERAL TERMS\\r\\nPromoter’s decision is final and no correspondence will be entered into.\\r\\nPromoter reserves the right in its absolute discretion to amend or waive any of these Terms\\r\\nand Conditions, or suspend or cancel the prize draw at any stage, in the event of\\r\\ncircumstances that are unforeseen or beyond its reasonable control (including suspected or\\r\\nactual fraudulent or misleading practices or other breaches of these Terms and Conditions).\\r\\nEnglish law applies and the English courts shall have exclusive jurisdiction over any\\r\\nproceedings in connection with this promotion\\r\\nQ: HAIRGOALS T&Cs;UK residents only. Customers will recieve a 20% discount on haircare orders with 2 products\\r\\nor a 30% discount on haircare orders with 3+ products. One redemption per customer.\\r\\nSubject to availability, whilst stocks last. Incomplete, illegal, misdirected or late redemptions\\r\\nwill not be valid. Noli is not responsible for redemptions lost, damaged or delayed due to\\r\\ntechnical or connectivity or other problems.\"\n",
            "      page_span {\n",
            "        first_page: 2\n",
            "        last_page: 5\n",
            "      }\n",
            "    }\n",
            "  }\n",
            "}\n",
            "\n"
          ]
        }
      ],
      "source": [
        "# Direct context retrieval\n",
        "response = rag.retrieval_query(\n",
        "    rag_resources=[\n",
        "        rag.RagResource(\n",
        "            rag_corpus=rag_corpus.name,\n",
        "            # Optional: supply IDs from `rag.list_files()`.\n",
        "            # rag_file_ids=[\"rag-file-1\", \"rag-file-2\", ...],\n",
        "        )\n",
        "    ],\n",
        "    rag_retrieval_config=rag.RagRetrievalConfig(\n",
        "        top_k=10,  # Optional\n",
        "        filter=rag.Filter(\n",
        "            vector_distance_threshold=0.5,  # Optional\n",
        "        ),\n",
        "    ),\n",
        "    text=\"What is the support email in the Noli FAQ PDFs\",\n",
        ")\n",
        "print(response)\n",
        "\n",
        "# Optional: The retrieved context can be passed to any SDK or model generation API to generate final results.\n",
        "# context = \" \".join([context.text for context in response.contexts.contexts]).replace(\"\\n\", \"\")"
      ]
    },
    {
      "cell_type": "markdown",
      "metadata": {
        "id": "79ea89661842"
      },
      "source": [
        "### Create RAG Retrieval Tool"
      ]
    },
    {
      "cell_type": "code",
      "execution_count": 19,
      "metadata": {
        "id": "0ebceac3d816"
      },
      "outputs": [],
      "source": [
        "# Create a tool for the RAG Corpus\n",
        "rag_retrieval_tool = Tool(\n",
        "    retrieval=Retrieval(\n",
        "        vertex_rag_store=VertexRagStore(\n",
        "            rag_corpora=[rag_corpus.name],\n",
        "            similarity_top_k=10,\n",
        "            vector_distance_threshold=0.5,\n",
        "        )\n",
        "    )\n",
        ")"
      ]
    },
    {
      "cell_type": "markdown",
      "metadata": {
        "id": "d88fa7ede853"
      },
      "source": [
        "### Generate Content with Gemini using RAG Retrieval Tool"
      ]
    },
    {
      "cell_type": "code",
      "execution_count": 21,
      "metadata": {
        "id": "8dd928baecd4"
      },
      "outputs": [],
      "source": [
        "MODEL_ID = \"gemini-2.0-flash-001\""
      ]
    },
    {
      "cell_type": "code",
      "execution_count": 22,
      "metadata": {
        "id": "124b36be8d5b"
      },
      "outputs": [
        {
          "data": {
            "text/markdown": [
              "The support email is help@support.noli.com.\n"
            ],
            "text/plain": [
              "<IPython.core.display.Markdown object>"
            ]
          },
          "metadata": {},
          "output_type": "display_data"
        }
      ],
      "source": [
        "response = client.models.generate_content(\n",
        "    model=MODEL_ID,\n",
        "    contents=\"What is the support email in the Noli FAQ PDFs\",\n",
        "    config=GenerateContentConfig(tools=[rag_retrieval_tool]),\n",
        ")\n",
        "\n",
        "display(Markdown(response.text))"
      ]
    },
    {
      "cell_type": "code",
      "execution_count": 24,
      "metadata": {},
      "outputs": [
        {
          "name": "stdout",
          "output_type": "stream",
          "text": [
            "Note: you may need to restart the kernel to use updated packages.\n"
          ]
        },
        {
          "name": "stderr",
          "output_type": "stream",
          "text": [
            "WARNING: You are using pip version 21.2.3; however, version 25.1.1 is available.\n",
            "You should consider upgrading via the 'c:\\Users\\moham\\AppData\\Local\\Programs\\Python\\Python310\\python.exe -m pip install --upgrade pip' command.\n"
          ]
        }
      ],
      "source": [
        "%pip install gradio --quiet"
      ]
    },
    {
      "cell_type": "code",
      "execution_count": 25,
      "metadata": {},
      "outputs": [
        {
          "name": "stderr",
          "output_type": "stream",
          "text": [
            "C:\\Users\\moham\\AppData\\Roaming\\Python\\Python310\\site-packages\\tqdm\\auto.py:21: TqdmWarning: IProgress not found. Please update jupyter and ipywidgets. See https://ipywidgets.readthedocs.io/en/stable/user_install.html\n",
            "  from .autonotebook import tqdm as notebook_tqdm\n"
          ]
        },
        {
          "name": "stdout",
          "output_type": "stream",
          "text": [
            "* Running on local URL:  http://127.0.0.1:7860\n",
            "* To create a public link, set `share=True` in `launch()`.\n"
          ]
        },
        {
          "data": {
            "text/html": [
              "<div><iframe src=\"http://127.0.0.1:7860/\" width=\"100%\" height=\"500\" allow=\"autoplay; camera; microphone; clipboard-read; clipboard-write;\" frameborder=\"0\" allowfullscreen></iframe></div>"
            ],
            "text/plain": [
              "<IPython.core.display.HTML object>"
            ]
          },
          "metadata": {},
          "output_type": "display_data"
        },
        {
          "data": {
            "text/plain": []
          },
          "execution_count": 25,
          "metadata": {},
          "output_type": "execute_result"
        }
      ],
      "source": [
        "import gradio as gr\n",
        "\n",
        "def ask_agent(question):\n",
        "    # RAG retrieval and Gemini generation\n",
        "    response = client.models.generate_content(\n",
        "        model=MODEL_ID,\n",
        "        contents=question,\n",
        "        config=GenerateContentConfig(tools=[rag_retrieval_tool]),\n",
        "    )\n",
        "    return response.text\n",
        "\n",
        "demo = gr.Interface(\n",
        "    fn=ask_agent,\n",
        "    inputs=gr.Textbox(lines=2, label=\"Ask a question\"),\n",
        "    outputs=gr.Textbox(label=\"Answer\"),\n",
        "    title=\"Vertex AI RAG Q&A\",\n",
        "    description=\"Ask a question and get an answer from your RAG-powered agent.\"\n",
        ")\n",
        "\n",
        "demo.launch()  # This will run on localhost by default"
      ]
    },
    {
      "cell_type": "code",
      "execution_count": null,
      "metadata": {},
      "outputs": [],
      "source": []
    }
  ],
  "metadata": {
    "colab": {
      "name": "intro_rag_engine.ipynb",
      "provenance": [],
      "toc_visible": true
    },
    "kernelspec": {
      "display_name": "Python 3",
      "name": "python3"
    },
    "language_info": {
      "codemirror_mode": {
        "name": "ipython",
        "version": 3
      },
      "file_extension": ".py",
      "mimetype": "text/x-python",
      "name": "python",
      "nbconvert_exporter": "python",
      "pygments_lexer": "ipython3",
      "version": "3.10.0"
    }
  },
  "nbformat": 4,
  "nbformat_minor": 0
}
